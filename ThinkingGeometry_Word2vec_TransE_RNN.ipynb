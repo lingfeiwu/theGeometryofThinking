{
 "cells": [
  {
   "cell_type": "code",
   "execution_count": 41,
   "metadata": {},
   "outputs": [],
   "source": [
    "from collections import defaultdict, Counter\n",
    "import networkx as nx\n",
    "import numpy as np\n",
    "import pylab as plt\n",
    "import random\n",
    "import torch\n",
    "import torch.nn as nn\n",
    "from copy import deepcopy\n",
    "from torch import optim\n",
    "import torch.nn.functional as F\n",
    "from torch.autograd import Variable\n",
    "#for word2vec:\n",
    "#https://towardsdatascience.com/implementing-word2vec-in-pytorch-skip-gram-model-e6bae040d2fb\n",
    "#for transD:\n",
    "#https://github.com/jimmywangheng/knowledge_representation_pytorch/\n",
    "#for RNN:\n",
    "# https://iamtrask.github.io/2015/11/15/anyone-can-code-lstm/\n",
    "\n",
    "def oneHot(word_idx,vocabulary_size):\n",
    "    x = torch.zeros(vocabulary_size).float()\n",
    "    x[word_idx] = 1.0\n",
    "    return x"
   ]
  },
  {
   "cell_type": "markdown",
   "metadata": {},
   "source": [
    "## word2vec encodes entity \n",
    "## transE encodes entity and relation\n",
    "## RNN ecodes entity and order"
   ]
  },
  {
   "cell_type": "code",
   "execution_count": null,
   "metadata": {},
   "outputs": [],
   "source": []
  },
  {
   "cell_type": "markdown",
   "metadata": {},
   "source": [
    "# word2vec"
   ]
  },
  {
   "cell_type": "code",
   "execution_count": 621,
   "metadata": {},
   "outputs": [],
   "source": [
    "# parameters and data\n",
    "vocabulary_size = 10\n",
    "embedding_dims = 2\n",
    "sample_size = 10000\n",
    "pairs=list(zip(range(9),range(1,10)))+[(9,0)]+list(zip(range(10),range(10)))\n",
    "#pairs=list(zip(range(9),range(1,10)))\n",
    "#pairs=list(zip(range(9),range(1,10)))+list(zip(range(10),range(10)))\n",
    "idx_pairs=np.array(random.choices(pairs,k=sample_size))\n",
    "idx_pairs = np.apply_along_axis(np.random.permutation,1,idx_pairs)"
   ]
  },
  {
   "cell_type": "code",
   "execution_count": 623,
   "metadata": {},
   "outputs": [
    {
     "name": "stdout",
     "output_type": "stream",
     "text": [
      "Loss at epo 0: 1.6194731623530387\n",
      "Loss at epo 2: 1.1070541038155555\n",
      "Loss at epo 4: 1.1063459806919098\n",
      "Loss at epo 6: 1.106031321334839\n",
      "Loss at epo 8: 1.105803294992447\n"
     ]
    }
   ],
   "source": [
    "# model and training\n",
    "\n",
    "W1 = Variable(torch.randn(embedding_dims, vocabulary_size).float(),\n",
    "               requires_grad=True)\n",
    "W2 = Variable(torch.randn(vocabulary_size, embedding_dims).float(),\n",
    "               requires_grad=True)\n",
    "#W1 = Variable(W1_data.t(),\n",
    "#              requires_grad=True)\n",
    "#W2 = Variable(W1_data,\n",
    "#              requires_grad=True)\n",
    "\n",
    "num_epochs = 10\n",
    "learning_rate = 0.01\n",
    "Loss=[]\n",
    "for epo in range(num_epochs):\n",
    "    loss_val = 0\n",
    "    for context, target in idx_pairs:\n",
    "        x = Variable(oneHot(context,vocabulary_size)).float()\n",
    "        y_true = Variable(torch.from_numpy(np.array([target])).long())\n",
    "\n",
    "        z1 = torch.matmul(W1, x)\n",
    "        z2 = torch.matmul(W2, z1)\n",
    "    \n",
    "        log_softmax = F.log_softmax(z2, dim=0)\n",
    "        loss = F.nll_loss(log_softmax.view(1,-1), y_true)\n",
    "        loss_val += loss.item()\n",
    "        loss.backward()\n",
    "        W1.data -= learning_rate * W1.grad.data\n",
    "        W2.data -= learning_rate * W2.grad.data\n",
    "\n",
    "        W1.grad.data.zero_()\n",
    "        W2.grad.data.zero_()\n",
    "    if epo % 2 == 0:    \n",
    "        print(f'Loss at epo {epo}: {loss_val/len(idx_pairs)}')\n",
    "    Loss.append(loss_val/len(idx_pairs))"
   ]
  },
  {
   "cell_type": "code",
   "execution_count": 624,
   "metadata": {},
   "outputs": [
    {
     "data": {
      "text/plain": [
       "Text(0,0.5,'Loss')"
      ]
     },
     "execution_count": 624,
     "metadata": {},
     "output_type": "execute_result"
    },
    {
     "data": {
      "image/png": "[encoded data removed]",
      "text/plain": [
       "<Figure size 432x288 with 1 Axes>"
      ]
     },
     "metadata": {
      "needs_background": "light"
     },
     "output_type": "display_data"
    }
   ],
   "source": [
    "plt.plot(Loss,color='RoyalBlue',marker='o')\n",
    "plt.xlabel('N of epochs',fontsize=16)\n",
    "plt.ylabel('Loss',fontsize=16)"
   ]
  },
  {
   "cell_type": "code",
   "execution_count": 627,
   "metadata": {},
   "outputs": [
    {
     "data": {
      "image/png": "[encoded data removed]",
      "text/plain": [
       "<Figure size 576x288 with 2 Axes>"
      ]
     },
     "metadata": {},
     "output_type": "display_data"
    }
   ],
   "source": [
    "pos1=dict(zip(range(10),W1.data.numpy().T))\n",
    "pos2=dict(zip(range(10),W2.data.numpy()))\n",
    "#\n",
    "fig = plt.figure(figsize=(8, 4),facecolor='white')\n",
    "ax = fig.add_subplot(121)\n",
    "for i in pos1:\n",
    "    x,y=pos1[i]\n",
    "    #plt.plot(x,y,marker='o',color='r')\n",
    "    plt.text(x,y,i,size=14,color='r')\n",
    "#\n",
    "for i in pos2:\n",
    "    x,y=pos2[i]\n",
    "    #plt.plot(x,y,marker='^',color='gray')\n",
    "    plt.text(x,y,i,size=14,color='gray')\n",
    "#plt.legend(loc=3)\n",
    "l=4\n",
    "plt.xlim(-l,l)\n",
    "plt.ylim(-l,l)\n",
    "#annotation\n",
    "#plt.plot(0,0,'ro')\n",
    "#plt.text(0,0.5,'center vector (W1)',ha='center',color='r')\n",
    "#plt.plot(0,0,marker='^',color='gray')\n",
    "#plt.text(0,-0.5,'context vector (W2)',ha='center',color='gray')\n",
    "plt.title('W1 (red) and W2 (gray)',fontsize=16)\n",
    "#\n",
    "ax = fig.add_subplot(122)\n",
    "for i in pos1:\n",
    "    x1,y1=pos1[i]\n",
    "    x2,y2=pos2[i]\n",
    "    #plt.plot((x1+x2)/2,(y1+y2)/2,marker='s',color='green')\n",
    "    plt.text((x1+x2)/2,(y1+y2)/2,i,size=14,color='green')\n",
    "\n",
    "plt.xlim(-l,l)\n",
    "plt.ylim(-l,l)\n",
    "plt.title('Averaged',fontsize=16)\n",
    "#\n",
    "plt.tight_layout()\n",
    "plt.show()"
   ]
  },
  {
   "cell_type": "markdown",
   "metadata": {},
   "source": [
    "# TransE"
   ]
  },
  {
   "cell_type": "code",
   "execution_count": 55,
   "metadata": {},
   "outputs": [],
   "source": [
    "def marginLoss(pos, neg, margin):\n",
    "    return torch.sum(torch.max(pos - neg + margin, torch.zeros(pos.size())))\n",
    "\n",
    "def getBatchList(tripleList, num_batches):\n",
    "    l = len(tripleList) // num_batches # batch_size\n",
    "    v = []\n",
    "    for i in range(num_batches-1):\n",
    "        v.append(tripleList[l*i:l*(i+1)])\n",
    "    v.append(tripleList[l*(num_batches-1):])\n",
    "    return v\n",
    "\n",
    "def getBatch_raw_all(tripleList):\n",
    "    ph, pt ,pr = np.array(tripleList).T\n",
    "    k=int(len(tripleList)/2)\n",
    "    newTripleList=deepcopy(tripleList)\n",
    "    np.random.shuffle(newTripleList[:k,0])# corrupt head/tail for half of data\n",
    "    np.random.shuffle(newTripleList[k:,-1])\n",
    "    nh, nt, nr = np.array(newTripleList).T\n",
    "    return ph, pt, pr, nh, nt, nr"
   ]
  },
  {
   "cell_type": "code",
   "execution_count": 57,
   "metadata": {},
   "outputs": [],
   "source": [
    "class transE(nn.Module):\n",
    "\n",
    "    def __init__(self, entity_total, relation_total, embedding_size):\n",
    "        super(transE, self).__init__()\n",
    "        \n",
    "        self.eE = nn.Embedding(entity_total, embedding_size) #embed entities\n",
    "        self.rE = nn.Embedding(relation_total, embedding_size) #embed relation(s)\n",
    "\n",
    "    def forward(self, pos_h, pos_t, pos_r, neg_h, neg_t, neg_r):\n",
    "        \n",
    "        pos_h_e = self.eE(pos_h)\n",
    "        pos_t_e = self.eE(pos_t)\n",
    "        pos_r_e = self.rE(pos_r)\n",
    "        neg_h_e = self.eE(neg_h)\n",
    "        neg_t_e = self.eE(neg_t)\n",
    "        neg_r_e = self.rE(neg_r)\n",
    "        \n",
    "        pos = torch.sum((pos_h_e + pos_r_e - pos_t_e) ** 2, 1)\n",
    "        neg = torch.sum((neg_h_e + neg_r_e - neg_t_e) ** 2, 1)\n",
    "        return pos, neg\n",
    "    \n",
    "    def get_eE(self, inputs):\n",
    "        return self.eE(inputs)\n",
    "\n",
    "    def get_rE(self, inputs):\n",
    "        return self.rE(inputs)\n",
    "    "
   ]
  },
  {
   "cell_type": "code",
   "execution_count": 66,
   "metadata": {},
   "outputs": [],
   "source": [
    "# parameters\n",
    "num_batches=100\n",
    "embedding_size=2\n",
    "entity_total=10\n",
    "relation_total=1\n",
    "sample_size = 10000\n",
    "triplets=list(zip(range(9),[0]*10,range(1,10)))\n",
    "trainList=np.array(random.choices(triplets,k=sample_size))\n",
    "trainBatchList = getBatchList(trainList, num_batches)\n",
    "model = transE(entity_total, relation_total, embedding_size)\n",
    "optimizer = optim.SGD(model.parameters(), lr=0.01) "
   ]
  },
  {
   "cell_type": "code",
   "execution_count": 68,
   "metadata": {},
   "outputs": [
    {
     "data": {
      "text/plain": [
       "[(0, 0, 1),\n",
       " (1, 0, 2),\n",
       " (2, 0, 3),\n",
       " (3, 0, 4),\n",
       " (4, 0, 5),\n",
       " (5, 0, 6),\n",
       " (6, 0, 7),\n",
       " (7, 0, 8),\n",
       " (8, 0, 9)]"
      ]
     },
     "execution_count": 68,
     "metadata": {},
     "output_type": "execute_result"
    }
   ],
   "source": [
    "triplets"
   ]
  },
  {
   "cell_type": "code",
   "execution_count": null,
   "metadata": {},
   "outputs": [],
   "source": []
  },
  {
   "cell_type": "code",
   "execution_count": 63,
   "metadata": {},
   "outputs": [
    {
     "name": "stdout",
     "output_type": "stream",
     "text": [
      "Loss at epo 0: 18.407009253501894\n",
      "Loss at epo 10: 13.17\n",
      "Loss at epo 20: 12.2\n"
     ]
    }
   ],
   "source": [
    "# model and training\n",
    "num_epochs = 30\n",
    "Loss=[]\n",
    "for epo in range(num_epochs):\n",
    "    loss_val = 0\n",
    "    random.shuffle(trainBatchList)\n",
    "    for batchList in trainBatchList:\n",
    "        #\n",
    "        optimizer.zero_grad()\n",
    "        #\n",
    "        pos_h_batch, pos_r_batch, pos_t_batch,  neg_h_batch, neg_r_batch , neg_t_batch\\\n",
    "        = getBatch_raw_all(batchList)\n",
    "        pos_h_batch = Variable(torch.LongTensor(pos_h_batch))\n",
    "        pos_t_batch = Variable(torch.LongTensor(pos_t_batch))\n",
    "        pos_r_batch = Variable(torch.LongTensor(pos_r_batch))\n",
    "        neg_h_batch = Variable(torch.LongTensor(neg_h_batch))\n",
    "        neg_t_batch = Variable(torch.LongTensor(neg_t_batch))\n",
    "        neg_r_batch = Variable(torch.LongTensor(neg_r_batch))\n",
    "        pos, neg = model(pos_h_batch, pos_t_batch, pos_r_batch,\\\n",
    "                         neg_h_batch, neg_t_batch, neg_r_batch)\n",
    "        losses = marginLoss(pos, neg, 1)        \n",
    "        loss_val += losses.item()\n",
    "        losses.backward()\n",
    "        optimizer.step()\n",
    "        \n",
    "    \n",
    "    if epo % 10 == 0:    \n",
    "        print(f'Loss at epo {epo}: {loss_val/len(batchList)}')\n",
    "    Loss.append(loss_val/len(batchList))        "
   ]
  },
  {
   "cell_type": "code",
   "execution_count": 64,
   "metadata": {},
   "outputs": [
    {
     "data": {
      "text/plain": [
       "Text(0,0.5,'Loss')"
      ]
     },
     "execution_count": 64,
     "metadata": {},
     "output_type": "execute_result"
    },
    {
     "data": {
      "image/png": "[encoded data removed]",
      "text/plain": [
       "<Figure size 432x288 with 1 Axes>"
      ]
     },
     "metadata": {
      "needs_background": "light"
     },
     "output_type": "display_data"
    }
   ],
   "source": [
    "plt.plot(Loss,color='RoyalBlue',marker='o')\n",
    "plt.xlabel('N of epochs',fontsize=16)\n",
    "plt.ylabel('Loss',fontsize=16)"
   ]
  },
  {
   "cell_type": "code",
   "execution_count": 65,
   "metadata": {},
   "outputs": [
    {
     "data": {
      "image/png": "[encoded data removed]",
      "text/plain": [
       "<Figure size 360x360 with 1 Axes>"
      ]
     },
     "metadata": {},
     "output_type": "display_data"
    }
   ],
   "source": [
    "posR=dict(zip(range(10),model.get_rE(Variable(torch.LongTensor([0]))).data.numpy()))\n",
    "posE=dict(zip(range(10),model.get_eE(Variable(torch.LongTensor(range(10)))).data.numpy()))\n",
    "#\n",
    "fig = plt.figure(figsize=(5, 5),facecolor='white')\n",
    "ax = fig.add_subplot(111)\n",
    "plt.title('Entity and relation',fontsize=16)\n",
    "#\n",
    "x,y=posR[0]\n",
    "plt.plot(0,0,'ro')\n",
    "plt.plot(x,y,'rx')\n",
    "plt.plot([0,x],[0,y],'r-')\n",
    "#\n",
    "for i in range(9):\n",
    "    x,y=posE[i]\n",
    "    x_new,y_new=posE[i]+posR[0]\n",
    "    plt.text(x,y,i,size=14,color='green')\n",
    "    plt.text(x_new,y_new,i+1,size=14,color='gray')\n",
    "    plt.plot([x,x_new],[y,y_new],color='gray')\n",
    "    \n",
    "x,y=posE[9]\n",
    "plt.text(x,y,9,size=14,color='green')\n",
    "#\n",
    "l=6\n",
    "plt.xlim(-l,l)\n",
    "plt.ylim(-l,l)\n",
    "#\n",
    "#\n",
    "plt.tight_layout()\n",
    "plt.show()"
   ]
  },
  {
   "cell_type": "markdown",
   "metadata": {},
   "source": [
    "# RNN"
   ]
  },
  {
   "cell_type": "code",
   "execution_count": 160,
   "metadata": {},
   "outputs": [],
   "source": [
    "class RNN(nn.Module):\n",
    "\n",
    "    def __init__(self, entity_total, embedding_size):\n",
    "        super(RNN, self).__init__()\n",
    "        self.embedding_size = embedding_size\n",
    "        self.W_h = nn.Linear(embedding_size, embedding_size)\n",
    "        #self.input_embedding = nn.Embedding(entity_total, embedding_size) input matrix != output matrix\n",
    "        #self.output_embedding = nn.Linear(embedding_size, entity_total)\n",
    "        self.input_embedding = nn.Linear(entity_total, embedding_size)\n",
    "        self.output_embedding =  nn.Linear(embedding_size,entity_total)\n",
    "        self.output_embedding.weight.data = self.input_embedding.weight.data.transpose(0,1)\n",
    "        self.softmax = nn.LogSoftmax(dim=2)\n",
    "        \n",
    "    #def embed(self,item):\n",
    "    #    return self.input_embedding(item)\n",
    "    def embed(self,oneHot):\n",
    "        return self.input_embedding(oneHot)\n",
    "        \n",
    "    #def forward(self, item, legacy):\n",
    "    #    legacy_ = self.W_h(legacy) + self.input_embedding(item)\n",
    "    #    return legacy_\n",
    "    \n",
    "    def forward(self, oneHot, legacy):\n",
    "        legacy_ = self.W_h(legacy) + self.input_embedding(oneHot)\n",
    "        return legacy_\n",
    "    \n",
    "    def predict(self,legacy):\n",
    "        return self.softmax(self.output_embedding(legacy))\n",
    "    \n",
    "    def initLegacy(self):\n",
    "        return torch.zeros(1, 1, self.embedding_size)\n",
    "    "
   ]
  },
  {
   "cell_type": "code",
   "execution_count": 178,
   "metadata": {},
   "outputs": [
    {
     "name": "stdout",
     "output_type": "stream",
     "text": [
      "0 2.441704958677292\n",
      "40 2.08979594707489\n",
      "80 1.5070112496614456\n",
      "120 0.9017600864171982\n"
     ]
    }
   ],
   "source": [
    "triplets=list(zip(range(8),range(1,9),range(2,10)))\n",
    "entity_total=10\n",
    "embedding_size=2\n",
    "rnn=RNN(entity_total, embedding_size)\n",
    "legacy=rnn.initLegacy()\n",
    "learning_rate = 0.02\n",
    "optimizer = optim.SGD(rnn.parameters(), lr=learning_rate)\n",
    "criterion = nn.NLLLoss()\n",
    "\n",
    "# trainning\n",
    "\n",
    "Loss=[]\n",
    "for epoch in range(160):\n",
    "    l=0\n",
    "    for items in triplets:\n",
    "        loss=0\n",
    "        optimizer.zero_grad()\n",
    "        inputs = items[:2]\n",
    "        target = Variable(torch.LongTensor([items[-1]])) \n",
    "        # forward\n",
    "        for i in inputs:\n",
    "            #item=Variable(torch.LongTensor([i]))\n",
    "            #legacy=rnn.forward(item,legacy)\n",
    "            onehot=oneHot(i,entity_total)\n",
    "            legacy=rnn.forward(onehot,legacy)\n",
    "        prediction=rnn.predict(legacy) \n",
    "        loss=criterion(prediction[0],target)\n",
    "        # backward\n",
    "        loss.backward(retain_graph=True)\n",
    "        optimizer.step()\n",
    "        l+=loss.item()\n",
    "    Loss.append(l/len(triplets))\n",
    "    if epoch%40==0:\n",
    "        print(epoch, l/len(triplets))"
   ]
  },
  {
   "cell_type": "code",
   "execution_count": 179,
   "metadata": {},
   "outputs": [
    {
     "data": {
      "text/plain": [
       "Text(0,0.5,'Loss')"
      ]
     },
     "execution_count": 179,
     "metadata": {},
     "output_type": "execute_result"
    },
    {
     "data": {
      "image/png": "[encoded data removed]",
      "text/plain": [
       "<Figure size 432x288 with 1 Axes>"
      ]
     },
     "metadata": {
      "needs_background": "light"
     },
     "output_type": "display_data"
    }
   ],
   "source": [
    "plt.plot(Loss,color='RoyalBlue',marker='o')\n",
    "plt.xlabel('N of epochs',fontsize=16)\n",
    "plt.ylabel('Loss',fontsize=16)"
   ]
  },
  {
   "cell_type": "code",
   "execution_count": 180,
   "metadata": {},
   "outputs": [
    {
     "name": "stdout",
     "output_type": "stream",
     "text": [
      "(0, 1) 2 2\n",
      "(1, 2) 3 3\n",
      "(2, 3) 4 4\n",
      "(3, 4) 5 5\n",
      "(4, 5) 6 6\n",
      "(5, 6) 7 8\n",
      "(6, 7) 8 8\n",
      "(7, 8) 9 2\n"
     ]
    }
   ],
   "source": [
    "for items in triplets:\n",
    "    inputs = items[:2]\n",
    "    target = Variable(torch.LongTensor([items[-1]])) \n",
    "    # forward\n",
    "    for i in inputs:\n",
    "        #item=Variable(torch.LongTensor([i]))\n",
    "        #legacy=rnn.forward(item,legacy)\n",
    "        onehot=oneHot(i,entity_total)\n",
    "        legacy=rnn.forward(onehot,legacy)\n",
    "    prediction=rnn.predict(legacy) \n",
    "    print(inputs,target.item(),np.argmax(prediction.data.numpy()))"
   ]
  },
  {
   "cell_type": "code",
   "execution_count": 181,
   "metadata": {},
   "outputs": [],
   "source": [
    "posE=dict(zip(range(10),rnn.input_embedding.weight.data.numpy().T))\n",
    "posE_=dict(zip(range(10),rnn.output_embedding.weight.data.numpy()))\n",
    "W_h=rnn.W_h.weight.data.numpy()"
   ]
  },
  {
   "cell_type": "code",
   "execution_count": 211,
   "metadata": {},
   "outputs": [
    {
     "data": {
      "text/plain": [
       "(-3, 3)"
      ]
     },
     "execution_count": 211,
     "metadata": {},
     "output_type": "execute_result"
    },
    {
     "data": {
      "image/png": "[encoded data removed]",
      "text/plain": [
       "<Figure size 720x360 with 2 Axes>"
      ]
     },
     "metadata": {},
     "output_type": "display_data"
    }
   ],
   "source": [
    "\n",
    "l=3\n",
    "fig = plt.figure(figsize=(10, 5),facecolor='white')\n",
    "\n",
    "ax = fig.add_subplot(121)\n",
    "for i in range(10):\n",
    "    xi,yi=posE[i]\n",
    "    xi_,yi_=np.matmul(posE[i],W_h)\n",
    "    plt.text(xi,yi,str(i),color='r',ha='center',va='center')\n",
    "    plt.text(xi_,yi_,str(i),color='g',ha='center',va='center')\n",
    "    #plt.plot([xi,xi_],[yi,yi_],linestyle='-',linewidth=.5,color='green')\n",
    "    ax.annotate(\"\",\n",
    "                xy=(xi, yi), xycoords='data',\n",
    "                xytext=(xi_, yi_), textcoords='data',\n",
    "                arrowprops=dict(arrowstyle=\"<-\", #linestyle=\"dashed\",\n",
    "                                color=\"green\",\n",
    "                                alpha=.8,\n",
    "                                shrinkA=5, shrinkB=3,\n",
    "                                patchA=None,\n",
    "                                patchB=None\n",
    "                                ),zorder=1\n",
    "                )\n",
    "    \n",
    "ax.table(cellText=np.round(W_h,2),loc='lower left',colWidths=[.2,.2])\n",
    "#plt.text(-6.5,-7,'W_h')\n",
    "plt.plot([-l,l],[0,0],'k--',linewidth=1)\n",
    "plt.plot([0,0],[-l,l],'k--',linewidth=1)\n",
    "plt.xlim(-l,l)\n",
    "plt.ylim(-l,l)\n",
    "\n",
    "\n",
    "ax = fig.add_subplot(122)\n",
    "\n",
    "for i in range(10):\n",
    "    xi,yi=posE[i]\n",
    "    xi_,yi_=np.matmul(posE[i],W_h)\n",
    "    plt.text(xi,yi,str(i),color='r',ha='center',va='center')\n",
    "    plt.text(xi_,yi_,str(i),color='g',ha='center',va='center')\n",
    "    #plt.plot([xi,xi_],[yi,yi_],linestyle='-',linewidth=.5,color='green')\n",
    "    ax.annotate(\"\",\n",
    "                xy=(xi, yi), xycoords='data',\n",
    "                xytext=(xi_, yi_), textcoords='data',\n",
    "                arrowprops=dict(arrowstyle=\"<-\", #linestyle=\"dashed\",\n",
    "                                color=\"green\",\n",
    "                                alpha=.8,\n",
    "                                shrinkA=5, shrinkB=3,\n",
    "                                patchA=None,\n",
    "                                patchB=None\n",
    "                                ),zorder=1\n",
    "                )\n",
    "    \n",
    "    \n",
    "for items in triplets:\n",
    "    a,b,c=items\n",
    "    xc_p,yc_p=np.matmul(posE[a],W_h)+posE[b]\n",
    "    #plt.text(xb,yb,str(b),color='r')\n",
    "    #plt.text(xa_,ya_,str(a)+'',color='g')\n",
    "    plt.text(xc_p,yc_p, str(b),color='r')\n",
    "    plt.text(xc_p+l/20,yc_p, '+',color='gray')\n",
    "    plt.text(xc_p+l/10,yc_p, str(a),color='g')\n",
    "    \n",
    "plt.plot([-l,l],[0,0],'k--',linewidth=1)\n",
    "plt.plot([0,0],[-l,l],'k--',linewidth=1)\n",
    "    \n",
    "plt.xlim(-l,l)\n",
    "plt.ylim(-l,l)"
   ]
  },
  {
   "cell_type": "code",
   "execution_count": null,
   "metadata": {},
   "outputs": [],
   "source": []
  }
 ],
 "metadata": {
  "kernelspec": {
   "display_name": "pytorch",
   "language": "python",
   "name": "pytorch"
  },
  "language_info": {
   "codemirror_mode": {
    "name": "ipython",
    "version": 3
   },
   "file_extension": ".py",
   "mimetype": "text/x-python",
   "name": "python",
   "nbconvert_exporter": "python",
   "pygments_lexer": "ipython3",
   "version": "3.7.2"
  }
 },
 "nbformat": 4,
 "nbformat_minor": 2
}
